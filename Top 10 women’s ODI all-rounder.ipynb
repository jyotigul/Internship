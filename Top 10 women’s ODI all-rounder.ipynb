{
 "cells": [
  {
   "cell_type": "code",
   "execution_count": 1,
   "id": "1a235492",
   "metadata": {
    "scrolled": false
   },
   "outputs": [
    {
     "name": "stdout",
     "output_type": "stream",
     "text": [
      "Requirement already satisfied: bs4 in c:\\programdata\\anaconda3\\lib\\site-packages (0.0.1)\n",
      "Requirement already satisfied: beautifulsoup4 in c:\\programdata\\anaconda3\\lib\\site-packages (from bs4) (4.10.0)\n",
      "Requirement already satisfied: soupsieve>1.2 in c:\\programdata\\anaconda3\\lib\\site-packages (from beautifulsoup4->bs4) (2.2.1)\n",
      "Requirement already satisfied: requests in c:\\programdata\\anaconda3\\lib\\site-packages (2.26.0)\n",
      "Requirement already satisfied: charset-normalizer~=2.0.0 in c:\\programdata\\anaconda3\\lib\\site-packages (from requests) (2.0.4)\n",
      "Requirement already satisfied: idna<4,>=2.5 in c:\\programdata\\anaconda3\\lib\\site-packages (from requests) (3.2)\n",
      "Requirement already satisfied: certifi>=2017.4.17 in c:\\programdata\\anaconda3\\lib\\site-packages (from requests) (2021.10.8)\n",
      "Requirement already satisfied: urllib3<1.27,>=1.21.1 in c:\\programdata\\anaconda3\\lib\\site-packages (from requests) (1.26.7)\n"
     ]
    }
   ],
   "source": [
    "!pip install bs4\n",
    "!pip install requests"
   ]
  },
  {
   "cell_type": "code",
   "execution_count": 2,
   "id": "66e4c0bd",
   "metadata": {},
   "outputs": [],
   "source": [
    "from bs4 import BeautifulSoup\n",
    "import requests"
   ]
  },
  {
   "cell_type": "code",
   "execution_count": 3,
   "id": "faa59475",
   "metadata": {},
   "outputs": [],
   "source": [
    "page =requests.getpage =requests.get('https://www.icc-cricket.com/rankings/womens/player-rankings/odi/all-rounder')"
   ]
  },
  {
   "cell_type": "code",
   "execution_count": 4,
   "id": "dc9a794a",
   "metadata": {},
   "outputs": [
    {
     "data": {
      "text/plain": [
       "<Response [200]>"
      ]
     },
     "execution_count": 4,
     "metadata": {},
     "output_type": "execute_result"
    }
   ],
   "source": [
    "page"
   ]
  },
  {
   "cell_type": "code",
   "execution_count": 5,
   "id": "94be1683",
   "metadata": {},
   "outputs": [],
   "source": [
    "soup=BeautifulSoup(page.content)\n",
    "soup2=BeautifulSoup(page.content)"
   ]
  },
  {
   "cell_type": "code",
   "execution_count": 6,
   "id": "0ac73297",
   "metadata": {
    "scrolled": true
   },
   "outputs": [
    {
     "data": {
      "text/plain": [
       "['Natalie Sciver',\n",
       " 'Ellyse Perry',\n",
       " 'Marizanne Kapp',\n",
       " 'Hayley Matthews',\n",
       " 'Amelia Kerr',\n",
       " 'Ashleigh Gardner',\n",
       " 'Deepti Sharma',\n",
       " 'Jess Jonassen',\n",
       " 'Katherine Brunt',\n",
       " 'Jhulan Goswami',\n",
       " 'Sophie Ecclestone',\n",
       " 'Stafanie Taylor',\n",
       " 'Nida Dar',\n",
       " 'Sophie Devine',\n",
       " 'Sune Luus',\n",
       " 'Rumana Ahmed',\n",
       " 'Dane van Niekerk',\n",
       " 'Salma Khatun',\n",
       " 'Heather Knight',\n",
       " 'Tahlia McGrath']"
      ]
     },
     "execution_count": 6,
     "metadata": {},
     "output_type": "execute_result"
    }
   ],
   "source": [
    "name= []\n",
    "for ODI_Batsman in soup.find_all('div',class_=\"rankings-block__banner--name-large\"):\n",
    "    name.append(ODI_Batsman.text)\n",
    "\n",
    "\n",
    "for ODI_Batsman in soup2.find_all('tr',class_=\"table-body\"):\n",
    "    name.append(ODI_Batsman.a.text)    \n",
    "name\n"
   ]
  },
  {
   "cell_type": "code",
   "execution_count": 7,
   "id": "0a11e036",
   "metadata": {},
   "outputs": [
    {
     "data": {
      "text/plain": [
       "['ENG',\n",
       " 'AUS',\n",
       " 'SA',\n",
       " 'WI',\n",
       " 'NZ',\n",
       " 'AUS',\n",
       " 'IND',\n",
       " 'AUS',\n",
       " 'ENG',\n",
       " 'IND',\n",
       " 'ENG',\n",
       " 'WI',\n",
       " 'PAK',\n",
       " 'NZ',\n",
       " 'SA',\n",
       " 'BAN',\n",
       " 'SA',\n",
       " 'BAN',\n",
       " 'ENG',\n",
       " 'AUS']"
      ]
     },
     "execution_count": 7,
     "metadata": {},
     "output_type": "execute_result"
    }
   ],
   "source": [
    "team= []\n",
    "for ODI_Batsman in soup.find_all('div',class_=\"rankings-block__banner--nationality\"):\n",
    "    team.append(ODI_Batsman.text.replace('\\n','').replace(' ',''))\n",
    "\n",
    "\n",
    "for ODI_Batsman in soup2.find_all('td',class_=\"table-body__cell nationality-logo rankings-table__team\"):\n",
    "    team.append(ODI_Batsman.find('span',class_=\"table-body__logo-text\").text)    \n",
    "team"
   ]
  },
  {
   "cell_type": "code",
   "execution_count": 8,
   "id": "bd530246",
   "metadata": {},
   "outputs": [
    {
     "data": {
      "text/plain": [
       "['393',\n",
       " '374',\n",
       " '359',\n",
       " '338',\n",
       " '335',\n",
       " '269',\n",
       " '249',\n",
       " '245',\n",
       " '221',\n",
       " '217',\n",
       " '206',\n",
       " '205',\n",
       " '204',\n",
       " '202',\n",
       " '186',\n",
       " '169',\n",
       " '169',\n",
       " '167',\n",
       " '156',\n",
       " '149']"
      ]
     },
     "execution_count": 8,
     "metadata": {},
     "output_type": "execute_result"
    }
   ],
   "source": [
    "rating= []\n",
    "for ODI_Batsman in soup.find_all('div',class_=\"rankings-block__banner--rating\"):\n",
    "    rating.append(ODI_Batsman.text)\n",
    "\n",
    "\n",
    "for ODI_Batsman in soup2.find_all('td',class_=\"table-body__cell rating\"):\n",
    "    rating.append(ODI_Batsman.text)    \n",
    "rating"
   ]
  },
  {
   "cell_type": "code",
   "execution_count": 9,
   "id": "9b019e9f",
   "metadata": {},
   "outputs": [
    {
     "name": "stdout",
     "output_type": "stream",
     "text": [
      "20 20 20\n"
     ]
    }
   ],
   "source": [
    "print(len(name),len(team),len(rating))"
   ]
  },
  {
   "cell_type": "code",
   "execution_count": 10,
   "id": "a1d8acb1",
   "metadata": {},
   "outputs": [
    {
     "data": {
      "text/html": [
       "<div>\n",
       "<style scoped>\n",
       "    .dataframe tbody tr th:only-of-type {\n",
       "        vertical-align: middle;\n",
       "    }\n",
       "\n",
       "    .dataframe tbody tr th {\n",
       "        vertical-align: top;\n",
       "    }\n",
       "\n",
       "    .dataframe thead th {\n",
       "        text-align: right;\n",
       "    }\n",
       "</style>\n",
       "<table border=\"1\" class=\"dataframe\">\n",
       "  <thead>\n",
       "    <tr style=\"text-align: right;\">\n",
       "      <th></th>\n",
       "      <th>Name</th>\n",
       "      <th>Team</th>\n",
       "      <th>Rating</th>\n",
       "    </tr>\n",
       "  </thead>\n",
       "  <tbody>\n",
       "    <tr>\n",
       "      <th>0</th>\n",
       "      <td>Natalie Sciver</td>\n",
       "      <td>ENG</td>\n",
       "      <td>393</td>\n",
       "    </tr>\n",
       "    <tr>\n",
       "      <th>1</th>\n",
       "      <td>Ellyse Perry</td>\n",
       "      <td>AUS</td>\n",
       "      <td>374</td>\n",
       "    </tr>\n",
       "    <tr>\n",
       "      <th>2</th>\n",
       "      <td>Marizanne Kapp</td>\n",
       "      <td>SA</td>\n",
       "      <td>359</td>\n",
       "    </tr>\n",
       "    <tr>\n",
       "      <th>3</th>\n",
       "      <td>Hayley Matthews</td>\n",
       "      <td>WI</td>\n",
       "      <td>338</td>\n",
       "    </tr>\n",
       "    <tr>\n",
       "      <th>4</th>\n",
       "      <td>Amelia Kerr</td>\n",
       "      <td>NZ</td>\n",
       "      <td>335</td>\n",
       "    </tr>\n",
       "    <tr>\n",
       "      <th>5</th>\n",
       "      <td>Ashleigh Gardner</td>\n",
       "      <td>AUS</td>\n",
       "      <td>269</td>\n",
       "    </tr>\n",
       "    <tr>\n",
       "      <th>6</th>\n",
       "      <td>Deepti Sharma</td>\n",
       "      <td>IND</td>\n",
       "      <td>249</td>\n",
       "    </tr>\n",
       "    <tr>\n",
       "      <th>7</th>\n",
       "      <td>Jess Jonassen</td>\n",
       "      <td>AUS</td>\n",
       "      <td>245</td>\n",
       "    </tr>\n",
       "    <tr>\n",
       "      <th>8</th>\n",
       "      <td>Katherine Brunt</td>\n",
       "      <td>ENG</td>\n",
       "      <td>221</td>\n",
       "    </tr>\n",
       "    <tr>\n",
       "      <th>9</th>\n",
       "      <td>Jhulan Goswami</td>\n",
       "      <td>IND</td>\n",
       "      <td>217</td>\n",
       "    </tr>\n",
       "  </tbody>\n",
       "</table>\n",
       "</div>"
      ],
      "text/plain": [
       "               Name Team Rating\n",
       "0    Natalie Sciver  ENG    393\n",
       "1      Ellyse Perry  AUS    374\n",
       "2    Marizanne Kapp   SA    359\n",
       "3   Hayley Matthews   WI    338\n",
       "4       Amelia Kerr   NZ    335\n",
       "5  Ashleigh Gardner  AUS    269\n",
       "6     Deepti Sharma  IND    249\n",
       "7     Jess Jonassen  AUS    245\n",
       "8   Katherine Brunt  ENG    221\n",
       "9    Jhulan Goswami  IND    217"
      ]
     },
     "execution_count": 10,
     "metadata": {},
     "output_type": "execute_result"
    }
   ],
   "source": [
    "import pandas as pd\n",
    "df = pd.DataFrame({})\n",
    "df['Name']=name[:10]\n",
    "df['Team']=team[:10]\n",
    "df['Rating']=rating[:10]\n",
    "df\n"
   ]
  },
  {
   "cell_type": "code",
   "execution_count": null,
   "id": "9d4568a9",
   "metadata": {},
   "outputs": [],
   "source": []
  }
 ],
 "metadata": {
  "kernelspec": {
   "display_name": "Python 3 (ipykernel)",
   "language": "python",
   "name": "python3"
  },
  "language_info": {
   "codemirror_mode": {
    "name": "ipython",
    "version": 3
   },
   "file_extension": ".py",
   "mimetype": "text/x-python",
   "name": "python",
   "nbconvert_exporter": "python",
   "pygments_lexer": "ipython3",
   "version": "3.9.7"
  }
 },
 "nbformat": 4,
 "nbformat_minor": 5
}
