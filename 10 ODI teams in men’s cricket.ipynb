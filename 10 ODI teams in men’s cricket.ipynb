{
 "cells": [
  {
   "cell_type": "code",
   "execution_count": 1,
   "id": "1a235492",
   "metadata": {
    "scrolled": false
   },
   "outputs": [
    {
     "name": "stdout",
     "output_type": "stream",
     "text": [
      "Requirement already satisfied: bs4 in c:\\programdata\\anaconda3\\lib\\site-packages (0.0.1)\n",
      "Requirement already satisfied: beautifulsoup4 in c:\\programdata\\anaconda3\\lib\\site-packages (from bs4) (4.10.0)\n",
      "Requirement already satisfied: soupsieve>1.2 in c:\\programdata\\anaconda3\\lib\\site-packages (from beautifulsoup4->bs4) (2.2.1)\n",
      "Requirement already satisfied: requests in c:\\programdata\\anaconda3\\lib\\site-packages (2.26.0)\n",
      "Requirement already satisfied: charset-normalizer~=2.0.0 in c:\\programdata\\anaconda3\\lib\\site-packages (from requests) (2.0.4)\n",
      "Requirement already satisfied: certifi>=2017.4.17 in c:\\programdata\\anaconda3\\lib\\site-packages (from requests) (2021.10.8)\n",
      "Requirement already satisfied: idna<4,>=2.5 in c:\\programdata\\anaconda3\\lib\\site-packages (from requests) (3.2)\n",
      "Requirement already satisfied: urllib3<1.27,>=1.21.1 in c:\\programdata\\anaconda3\\lib\\site-packages (from requests) (1.26.7)\n"
     ]
    }
   ],
   "source": [
    "!pip install bs4\n",
    "!pip install requests"
   ]
  },
  {
   "cell_type": "code",
   "execution_count": 2,
   "id": "66e4c0bd",
   "metadata": {},
   "outputs": [],
   "source": [
    "from bs4 import BeautifulSoup\n",
    "import requests"
   ]
  },
  {
   "cell_type": "code",
   "execution_count": 3,
   "id": "faa59475",
   "metadata": {},
   "outputs": [],
   "source": [
    "page =requests.getpage =requests.get('https://www.icc-cricket.com/rankings/mens/team-rankings/odi')"
   ]
  },
  {
   "cell_type": "code",
   "execution_count": 4,
   "id": "dc9a794a",
   "metadata": {},
   "outputs": [
    {
     "data": {
      "text/plain": [
       "<Response [200]>"
      ]
     },
     "execution_count": 4,
     "metadata": {},
     "output_type": "execute_result"
    }
   ],
   "source": [
    "page"
   ]
  },
  {
   "cell_type": "code",
   "execution_count": 5,
   "id": "94be1683",
   "metadata": {},
   "outputs": [],
   "source": [
    "soup=BeautifulSoup(page.content)\n",
    "soup2=BeautifulSoup(page.content)"
   ]
  },
  {
   "cell_type": "code",
   "execution_count": 34,
   "id": "0ac73297",
   "metadata": {
    "scrolled": true
   },
   "outputs": [
    {
     "data": {
      "text/plain": [
       "['New Zealand',\n",
       " 'England',\n",
       " 'Australia',\n",
       " 'India',\n",
       " 'Pakistan',\n",
       " 'South Africa',\n",
       " 'Bangladesh',\n",
       " 'Sri Lanka',\n",
       " 'West Indies',\n",
       " 'Afghanistan',\n",
       " 'Ireland',\n",
       " 'Scotland',\n",
       " 'UAE',\n",
       " 'Netherlands',\n",
       " 'Zimbabwe',\n",
       " 'Oman',\n",
       " 'Namibia',\n",
       " 'United States',\n",
       " 'Nepal',\n",
       " 'Papua New Guinea']"
      ]
     },
     "execution_count": 34,
     "metadata": {},
     "output_type": "execute_result"
    }
   ],
   "source": [
    "team= []\n",
    "for i in soup.find_all('span',class_=\"u-hide-phablet\"):\n",
    "    team.append(i.text)\n",
    "    \n",
    "while(\"\" in team):\n",
    "    team.remove(\"\")\n",
    "team\n"
   ]
  },
  {
   "cell_type": "code",
   "execution_count": 7,
   "id": "8fee0330",
   "metadata": {},
   "outputs": [
    {
     "data": {
      "text/plain": [
       "['12']"
      ]
     },
     "execution_count": 7,
     "metadata": {},
     "output_type": "execute_result"
    }
   ],
   "source": [
    "matches_t= []\n",
    "for i in soup.find_all('td',class_=\"rankings-block__banner--matches\"):\n",
    "    matches_t.append(i.text)\n",
    "\n",
    "\n",
    "matches_t\n",
    "\n"
   ]
  },
  {
   "cell_type": "code",
   "execution_count": 8,
   "id": "6f4ab513",
   "metadata": {},
   "outputs": [
    {
     "data": {
      "text/plain": [
       "['1,505']"
      ]
     },
     "execution_count": 8,
     "metadata": {},
     "output_type": "execute_result"
    }
   ],
   "source": [
    "points_t= []\n",
    "for i in soup.find_all('td',class_=\"rankings-block__banner--points\"):\n",
    "    points_t.append(i.text)\n",
    "\n",
    "points_t\n"
   ]
  },
  {
   "cell_type": "code",
   "execution_count": 9,
   "id": "4568d7b5",
   "metadata": {},
   "outputs": [
    {
     "data": {
      "text/plain": [
       "['125',\n",
       " '124',\n",
       " '107',\n",
       " '105',\n",
       " '102',\n",
       " '99',\n",
       " '95',\n",
       " '87',\n",
       " '73',\n",
       " '66',\n",
       " '54',\n",
       " '50',\n",
       " '39',\n",
       " '38',\n",
       " '35',\n",
       " '32',\n",
       " '22',\n",
       " '19',\n",
       " '17',\n",
       " '6']"
      ]
     },
     "execution_count": 9,
     "metadata": {},
     "output_type": "execute_result"
    }
   ],
   "source": [
    "rating= []\n",
    "for i in soup.find_all('td',class_=\"rankings-block__banner--rating u-text-right\"):\n",
    "    rating.append(i.text.replace('\\n','').replace(' ',''))\n",
    "\n",
    "for i in soup2.find_all('td',class_=\"table-body__cell u-text-right rating\"):\n",
    "    rating.append(i.text)\n",
    "\n",
    "rating"
   ]
  },
  {
   "cell_type": "code",
   "execution_count": 10,
   "id": "0aeb1d35",
   "metadata": {},
   "outputs": [
    {
     "data": {
      "text/plain": [
       "['19',\n",
       " '2,353',\n",
       " '18',\n",
       " '1,929',\n",
       " '22',\n",
       " '2,304',\n",
       " '16',\n",
       " '1,635',\n",
       " '19',\n",
       " '1,872',\n",
       " '24',\n",
       " '2,275',\n",
       " '24',\n",
       " '2,086',\n",
       " '26',\n",
       " '1,885',\n",
       " '15',\n",
       " '986',\n",
       " '20',\n",
       " '1,083',\n",
       " '14',\n",
       " '698',\n",
       " '15',\n",
       " '582',\n",
       " '12',\n",
       " '459',\n",
       " '14',\n",
       " '488',\n",
       " '26',\n",
       " '835',\n",
       " '11',\n",
       " '246',\n",
       " '12',\n",
       " '232',\n",
       " '14',\n",
       " '232',\n",
       " '22',\n",
       " '134']"
      ]
     },
     "execution_count": 10,
     "metadata": {},
     "output_type": "execute_result"
    }
   ],
   "source": [
    "points_b= []\n",
    "\n",
    "for i in soup2.find_all('td',class_=\"table-body__cell u-center-text\"):\n",
    "    (points_b.append(i.text))\n",
    "\n",
    "points_b"
   ]
  },
  {
   "cell_type": "code",
   "execution_count": 11,
   "id": "15ea7a70",
   "metadata": {},
   "outputs": [
    {
     "data": {
      "text/plain": [
       "['19',\n",
       " '2,353',\n",
       " '18',\n",
       " '1,929',\n",
       " '22',\n",
       " '2,304',\n",
       " '16',\n",
       " '1,635',\n",
       " '19',\n",
       " '1,872',\n",
       " '24',\n",
       " '2,275',\n",
       " '24',\n",
       " '2,086',\n",
       " '26',\n",
       " '1,885',\n",
       " '15',\n",
       " '986',\n",
       " '20',\n",
       " '1,083',\n",
       " '14',\n",
       " '698',\n",
       " '15',\n",
       " '582',\n",
       " '12',\n",
       " '459',\n",
       " '14',\n",
       " '488',\n",
       " '26',\n",
       " '835',\n",
       " '11',\n",
       " '246',\n",
       " '12',\n",
       " '232',\n",
       " '14',\n",
       " '232',\n",
       " '22',\n",
       " '134']"
      ]
     },
     "execution_count": 11,
     "metadata": {},
     "output_type": "execute_result"
    }
   ],
   "source": [
    "matches_b= []\n",
    "\n",
    "for i in soup2.find_all('td',class_=\"table-body__cell u-center-text\"):\n",
    "    matches_b.append(i.text)\n",
    "\n",
    "matches_b"
   ]
  },
  {
   "cell_type": "code",
   "execution_count": 23,
   "id": "7a5dbc88",
   "metadata": {},
   "outputs": [
    {
     "name": "stdout",
     "output_type": "stream",
     "text": [
      "['19', '18', '22', '16', '19', '24', '24', '26', '15', '20', '14', '15', '12', '14', '26', '11', '12', '14', '22']\n"
     ]
    }
   ],
   "source": [
    "matches_c = matches_b[0::2]\n",
    "print (\"\" + str(matches_c))"
   ]
  },
  {
   "cell_type": "code",
   "execution_count": 26,
   "id": "1e43e3ca",
   "metadata": {},
   "outputs": [
    {
     "name": "stdout",
     "output_type": "stream",
     "text": [
      "['2,353', '1,929', '2,304', '1,635', '1,872', '2,275', '2,086', '1,885', '986', '1,083', '698', '582', '459', '488', '835', '246', '232', '232', '134']\n"
     ]
    }
   ],
   "source": [
    "points_c = points_b[1::2]\n",
    "print (\"\" + str(points_c))"
   ]
  },
  {
   "cell_type": "code",
   "execution_count": 27,
   "id": "25dcf866",
   "metadata": {},
   "outputs": [
    {
     "name": "stdout",
     "output_type": "stream",
     "text": [
      "['12', '19', '18', '22', '16', '19', '24', '24', '26', '15', '20', '14', '15', '12', '14', '26', '11', '12', '14', '22']\n"
     ]
    }
   ],
   "source": [
    "matches_f=matches_t + matches_c\n",
    "print(matches_f)"
   ]
  },
  {
   "cell_type": "code",
   "execution_count": 28,
   "id": "bb244388",
   "metadata": {},
   "outputs": [
    {
     "name": "stdout",
     "output_type": "stream",
     "text": [
      "['1,505', '2,353', '1,929', '2,304', '1,635', '1,872', '2,275', '2,086', '1,885', '986', '1,083', '698', '582', '459', '488', '835', '246', '232', '232', '134']\n"
     ]
    }
   ],
   "source": [
    "points_f=points_t + points_c\n",
    "print(points_f)"
   ]
  },
  {
   "cell_type": "code",
   "execution_count": 38,
   "id": "a2e2d16f",
   "metadata": {},
   "outputs": [
    {
     "name": "stdout",
     "output_type": "stream",
     "text": [
      "20 20 20 20\n"
     ]
    }
   ],
   "source": [
    "print(len(team),len(matches_f),len(points_f),len(rating))"
   ]
  },
  {
   "cell_type": "code",
   "execution_count": 39,
   "id": "a459d608",
   "metadata": {},
   "outputs": [
    {
     "data": {
      "text/html": [
       "<div>\n",
       "<style scoped>\n",
       "    .dataframe tbody tr th:only-of-type {\n",
       "        vertical-align: middle;\n",
       "    }\n",
       "\n",
       "    .dataframe tbody tr th {\n",
       "        vertical-align: top;\n",
       "    }\n",
       "\n",
       "    .dataframe thead th {\n",
       "        text-align: right;\n",
       "    }\n",
       "</style>\n",
       "<table border=\"1\" class=\"dataframe\">\n",
       "  <thead>\n",
       "    <tr style=\"text-align: right;\">\n",
       "      <th></th>\n",
       "      <th>Teams</th>\n",
       "      <th>Matches</th>\n",
       "      <th>Points</th>\n",
       "      <th>Rating</th>\n",
       "    </tr>\n",
       "  </thead>\n",
       "  <tbody>\n",
       "    <tr>\n",
       "      <th>0</th>\n",
       "      <td>New Zealand</td>\n",
       "      <td>12</td>\n",
       "      <td>1,505</td>\n",
       "      <td>125</td>\n",
       "    </tr>\n",
       "    <tr>\n",
       "      <th>1</th>\n",
       "      <td>England</td>\n",
       "      <td>19</td>\n",
       "      <td>2,353</td>\n",
       "      <td>124</td>\n",
       "    </tr>\n",
       "    <tr>\n",
       "      <th>2</th>\n",
       "      <td>Australia</td>\n",
       "      <td>18</td>\n",
       "      <td>1,929</td>\n",
       "      <td>107</td>\n",
       "    </tr>\n",
       "    <tr>\n",
       "      <th>3</th>\n",
       "      <td>India</td>\n",
       "      <td>22</td>\n",
       "      <td>2,304</td>\n",
       "      <td>105</td>\n",
       "    </tr>\n",
       "    <tr>\n",
       "      <th>4</th>\n",
       "      <td>Pakistan</td>\n",
       "      <td>16</td>\n",
       "      <td>1,635</td>\n",
       "      <td>102</td>\n",
       "    </tr>\n",
       "    <tr>\n",
       "      <th>5</th>\n",
       "      <td>South Africa</td>\n",
       "      <td>19</td>\n",
       "      <td>1,872</td>\n",
       "      <td>99</td>\n",
       "    </tr>\n",
       "    <tr>\n",
       "      <th>6</th>\n",
       "      <td>Bangladesh</td>\n",
       "      <td>24</td>\n",
       "      <td>2,275</td>\n",
       "      <td>95</td>\n",
       "    </tr>\n",
       "    <tr>\n",
       "      <th>7</th>\n",
       "      <td>Sri Lanka</td>\n",
       "      <td>24</td>\n",
       "      <td>2,086</td>\n",
       "      <td>87</td>\n",
       "    </tr>\n",
       "    <tr>\n",
       "      <th>8</th>\n",
       "      <td>West Indies</td>\n",
       "      <td>26</td>\n",
       "      <td>1,885</td>\n",
       "      <td>73</td>\n",
       "    </tr>\n",
       "    <tr>\n",
       "      <th>9</th>\n",
       "      <td>Afghanistan</td>\n",
       "      <td>15</td>\n",
       "      <td>986</td>\n",
       "      <td>66</td>\n",
       "    </tr>\n",
       "    <tr>\n",
       "      <th>10</th>\n",
       "      <td>Ireland</td>\n",
       "      <td>20</td>\n",
       "      <td>1,083</td>\n",
       "      <td>54</td>\n",
       "    </tr>\n",
       "    <tr>\n",
       "      <th>11</th>\n",
       "      <td>Scotland</td>\n",
       "      <td>14</td>\n",
       "      <td>698</td>\n",
       "      <td>50</td>\n",
       "    </tr>\n",
       "    <tr>\n",
       "      <th>12</th>\n",
       "      <td>UAE</td>\n",
       "      <td>15</td>\n",
       "      <td>582</td>\n",
       "      <td>39</td>\n",
       "    </tr>\n",
       "    <tr>\n",
       "      <th>13</th>\n",
       "      <td>Netherlands</td>\n",
       "      <td>12</td>\n",
       "      <td>459</td>\n",
       "      <td>38</td>\n",
       "    </tr>\n",
       "    <tr>\n",
       "      <th>14</th>\n",
       "      <td>Zimbabwe</td>\n",
       "      <td>14</td>\n",
       "      <td>488</td>\n",
       "      <td>35</td>\n",
       "    </tr>\n",
       "    <tr>\n",
       "      <th>15</th>\n",
       "      <td>Oman</td>\n",
       "      <td>26</td>\n",
       "      <td>835</td>\n",
       "      <td>32</td>\n",
       "    </tr>\n",
       "    <tr>\n",
       "      <th>16</th>\n",
       "      <td>Namibia</td>\n",
       "      <td>11</td>\n",
       "      <td>246</td>\n",
       "      <td>22</td>\n",
       "    </tr>\n",
       "    <tr>\n",
       "      <th>17</th>\n",
       "      <td>United States</td>\n",
       "      <td>12</td>\n",
       "      <td>232</td>\n",
       "      <td>19</td>\n",
       "    </tr>\n",
       "    <tr>\n",
       "      <th>18</th>\n",
       "      <td>Nepal</td>\n",
       "      <td>14</td>\n",
       "      <td>232</td>\n",
       "      <td>17</td>\n",
       "    </tr>\n",
       "    <tr>\n",
       "      <th>19</th>\n",
       "      <td>Papua New Guinea</td>\n",
       "      <td>22</td>\n",
       "      <td>134</td>\n",
       "      <td>6</td>\n",
       "    </tr>\n",
       "  </tbody>\n",
       "</table>\n",
       "</div>"
      ],
      "text/plain": [
       "               Teams Matches Points Rating\n",
       "0        New Zealand      12  1,505    125\n",
       "1            England      19  2,353    124\n",
       "2          Australia      18  1,929    107\n",
       "3              India      22  2,304    105\n",
       "4           Pakistan      16  1,635    102\n",
       "5       South Africa      19  1,872     99\n",
       "6         Bangladesh      24  2,275     95\n",
       "7          Sri Lanka      24  2,086     87\n",
       "8        West Indies      26  1,885     73\n",
       "9        Afghanistan      15    986     66\n",
       "10           Ireland      20  1,083     54\n",
       "11          Scotland      14    698     50\n",
       "12               UAE      15    582     39\n",
       "13       Netherlands      12    459     38\n",
       "14          Zimbabwe      14    488     35\n",
       "15              Oman      26    835     32\n",
       "16           Namibia      11    246     22\n",
       "17     United States      12    232     19\n",
       "18             Nepal      14    232     17\n",
       "19  Papua New Guinea      22    134      6"
      ]
     },
     "execution_count": 39,
     "metadata": {},
     "output_type": "execute_result"
    }
   ],
   "source": [
    "import pandas as pd\n",
    "df = pd.DataFrame({'Teams':team,'Matches':matches_f,'Points':points_f,'Rating':rating})\n",
    "df"
   ]
  },
  {
   "cell_type": "code",
   "execution_count": null,
   "id": "1097a3ef",
   "metadata": {},
   "outputs": [],
   "source": []
  }
 ],
 "metadata": {
  "kernelspec": {
   "display_name": "Python 3 (ipykernel)",
   "language": "python",
   "name": "python3"
  },
  "language_info": {
   "codemirror_mode": {
    "name": "ipython",
    "version": 3
   },
   "file_extension": ".py",
   "mimetype": "text/x-python",
   "name": "python",
   "nbconvert_exporter": "python",
   "pygments_lexer": "ipython3",
   "version": "3.9.7"
  }
 },
 "nbformat": 4,
 "nbformat_minor": 5
}
