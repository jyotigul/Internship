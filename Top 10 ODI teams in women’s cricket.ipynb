{
 "cells": [
  {
   "cell_type": "code",
   "execution_count": 1,
   "id": "1a235492",
   "metadata": {
    "scrolled": false
   },
   "outputs": [
    {
     "name": "stdout",
     "output_type": "stream",
     "text": [
      "Requirement already satisfied: bs4 in c:\\programdata\\anaconda3\\lib\\site-packages (0.0.1)\n",
      "Requirement already satisfied: beautifulsoup4 in c:\\programdata\\anaconda3\\lib\\site-packages (from bs4) (4.10.0)\n",
      "Requirement already satisfied: soupsieve>1.2 in c:\\programdata\\anaconda3\\lib\\site-packages (from beautifulsoup4->bs4) (2.2.1)\n",
      "Requirement already satisfied: requests in c:\\programdata\\anaconda3\\lib\\site-packages (2.26.0)\n",
      "Requirement already satisfied: charset-normalizer~=2.0.0 in c:\\programdata\\anaconda3\\lib\\site-packages (from requests) (2.0.4)\n",
      "Requirement already satisfied: certifi>=2017.4.17 in c:\\programdata\\anaconda3\\lib\\site-packages (from requests) (2021.10.8)\n",
      "Requirement already satisfied: idna<4,>=2.5 in c:\\programdata\\anaconda3\\lib\\site-packages (from requests) (3.2)\n",
      "Requirement already satisfied: urllib3<1.27,>=1.21.1 in c:\\programdata\\anaconda3\\lib\\site-packages (from requests) (1.26.7)\n"
     ]
    }
   ],
   "source": [
    "!pip install bs4\n",
    "!pip install requests"
   ]
  },
  {
   "cell_type": "code",
   "execution_count": 2,
   "id": "66e4c0bd",
   "metadata": {},
   "outputs": [],
   "source": [
    "from bs4 import BeautifulSoup\n",
    "import requests"
   ]
  },
  {
   "cell_type": "code",
   "execution_count": 3,
   "id": "faa59475",
   "metadata": {},
   "outputs": [],
   "source": [
    "page =requests.getpage =requests.get('https://www.icc-cricket.com/rankings/womens/team-rankings/odi')"
   ]
  },
  {
   "cell_type": "code",
   "execution_count": 4,
   "id": "dc9a794a",
   "metadata": {},
   "outputs": [
    {
     "data": {
      "text/plain": [
       "<Response [200]>"
      ]
     },
     "execution_count": 4,
     "metadata": {},
     "output_type": "execute_result"
    }
   ],
   "source": [
    "page"
   ]
  },
  {
   "cell_type": "code",
   "execution_count": 5,
   "id": "94be1683",
   "metadata": {},
   "outputs": [],
   "source": [
    "soup=BeautifulSoup(page.content)\n",
    "soup2=BeautifulSoup(page.content)"
   ]
  },
  {
   "cell_type": "code",
   "execution_count": 19,
   "id": "0ac73297",
   "metadata": {
    "scrolled": true
   },
   "outputs": [
    {
     "data": {
      "text/plain": [
       "['Australia',\n",
       " 'South Africa',\n",
       " 'England',\n",
       " 'India',\n",
       " 'New Zealand',\n",
       " 'West Indies',\n",
       " 'Bangladesh',\n",
       " 'Pakistan',\n",
       " 'Sri Lanka',\n",
       " 'Zimbabwe']"
      ]
     },
     "execution_count": 19,
     "metadata": {},
     "output_type": "execute_result"
    }
   ],
   "source": [
    "team= []\n",
    "for i in soup.find_all('span',class_=\"u-hide-phablet\"):\n",
    "    team.append(i.text)\n",
    "    \n",
    "while(\"\" in team):\n",
    "    team.remove(\"\")\n",
    "team\n"
   ]
  },
  {
   "cell_type": "code",
   "execution_count": 7,
   "id": "8fee0330",
   "metadata": {},
   "outputs": [
    {
     "data": {
      "text/plain": [
       "['29']"
      ]
     },
     "execution_count": 7,
     "metadata": {},
     "output_type": "execute_result"
    }
   ],
   "source": [
    "matches_t= []\n",
    "for i in soup.find_all('td',class_=\"rankings-block__banner--matches\"):\n",
    "    matches_t.append(i.text)\n",
    "\n",
    "\n",
    "matches_t\n",
    "\n"
   ]
  },
  {
   "cell_type": "code",
   "execution_count": 8,
   "id": "6f4ab513",
   "metadata": {},
   "outputs": [
    {
     "data": {
      "text/plain": [
       "['4,837']"
      ]
     },
     "execution_count": 8,
     "metadata": {},
     "output_type": "execute_result"
    }
   ],
   "source": [
    "points_t= []\n",
    "for i in soup.find_all('td',class_=\"rankings-block__banner--points\"):\n",
    "    points_t.append(i.text)\n",
    "\n",
    "points_t\n"
   ]
  },
  {
   "cell_type": "code",
   "execution_count": 9,
   "id": "4568d7b5",
   "metadata": {},
   "outputs": [
    {
     "data": {
      "text/plain": [
       "['167', '122', '118', '100', '97', '92', '78', '67', '42', '0']"
      ]
     },
     "execution_count": 9,
     "metadata": {},
     "output_type": "execute_result"
    }
   ],
   "source": [
    "rating= []\n",
    "for i in soup.find_all('td',class_=\"rankings-block__banner--rating u-text-right\"):\n",
    "    rating.append(i.text.replace('\\n','').replace(' ',''))\n",
    "\n",
    "for i in soup2.find_all('td',class_=\"table-body__cell u-text-right rating\"):\n",
    "    rating.append(i.text)\n",
    "\n",
    "rating"
   ]
  },
  {
   "cell_type": "code",
   "execution_count": 10,
   "id": "4b697099",
   "metadata": {},
   "outputs": [
    {
     "data": {
      "text/plain": [
       "['29',\n",
       " '3,551',\n",
       " '30',\n",
       " '3,531',\n",
       " '29',\n",
       " '2,889',\n",
       " '31',\n",
       " '3,019',\n",
       " '30',\n",
       " '2,768',\n",
       " '12',\n",
       " '930',\n",
       " '28',\n",
       " '1,882',\n",
       " '6',\n",
       " '249',\n",
       " '8',\n",
       " '0']"
      ]
     },
     "execution_count": 10,
     "metadata": {},
     "output_type": "execute_result"
    }
   ],
   "source": [
    "points_b= []\n",
    "\n",
    "for i in soup2.find_all('td',class_=\"table-body__cell u-center-text\"):\n",
    "    (points_b.append(i.text))\n",
    "\n",
    "points_b"
   ]
  },
  {
   "cell_type": "code",
   "execution_count": 11,
   "id": "5f328d3b",
   "metadata": {},
   "outputs": [
    {
     "data": {
      "text/plain": [
       "['29',\n",
       " '3,551',\n",
       " '30',\n",
       " '3,531',\n",
       " '29',\n",
       " '2,889',\n",
       " '31',\n",
       " '3,019',\n",
       " '30',\n",
       " '2,768',\n",
       " '12',\n",
       " '930',\n",
       " '28',\n",
       " '1,882',\n",
       " '6',\n",
       " '249',\n",
       " '8',\n",
       " '0']"
      ]
     },
     "execution_count": 11,
     "metadata": {},
     "output_type": "execute_result"
    }
   ],
   "source": [
    "matches_b= []\n",
    "\n",
    "for i in soup2.find_all('td',class_=\"table-body__cell u-center-text\"):\n",
    "    matches_b.append(i.text)\n",
    "\n",
    "matches_b"
   ]
  },
  {
   "cell_type": "code",
   "execution_count": 12,
   "id": "1c33d8f3",
   "metadata": {},
   "outputs": [
    {
     "name": "stdout",
     "output_type": "stream",
     "text": [
      "['29', '30', '29', '31', '30', '12', '28', '6', '8']\n"
     ]
    }
   ],
   "source": [
    "matches_c = matches_b[0::2]\n",
    "print (\"\" + str(matches_c))"
   ]
  },
  {
   "cell_type": "code",
   "execution_count": 13,
   "id": "766516ae",
   "metadata": {},
   "outputs": [
    {
     "name": "stdout",
     "output_type": "stream",
     "text": [
      "['3,551', '3,531', '2,889', '3,019', '2,768', '930', '1,882', '249', '0']\n"
     ]
    }
   ],
   "source": [
    "points_c = points_b[1::2]\n",
    "print (\"\" + str(points_c))"
   ]
  },
  {
   "cell_type": "code",
   "execution_count": 14,
   "id": "4a9b8226",
   "metadata": {},
   "outputs": [
    {
     "name": "stdout",
     "output_type": "stream",
     "text": [
      "['29', '29', '30', '29', '31', '30', '12', '28', '6', '8']\n"
     ]
    }
   ],
   "source": [
    "matches_f=matches_t + matches_c\n",
    "print(matches_f)"
   ]
  },
  {
   "cell_type": "code",
   "execution_count": 15,
   "id": "a8bffda6",
   "metadata": {},
   "outputs": [
    {
     "name": "stdout",
     "output_type": "stream",
     "text": [
      "['4,837', '3,551', '3,531', '2,889', '3,019', '2,768', '930', '1,882', '249', '0']\n"
     ]
    }
   ],
   "source": [
    "points_f=points_t + points_c\n",
    "print(points_f)"
   ]
  },
  {
   "cell_type": "code",
   "execution_count": 16,
   "id": "2f89a0e7",
   "metadata": {},
   "outputs": [
    {
     "name": "stdout",
     "output_type": "stream",
     "text": [
      "10 10 10 10\n"
     ]
    }
   ],
   "source": [
    "print(len(team),len(matches_f),len(points_f),len(rating))"
   ]
  },
  {
   "cell_type": "code",
   "execution_count": 17,
   "id": "acce271e",
   "metadata": {},
   "outputs": [
    {
     "data": {
      "text/html": [
       "<div>\n",
       "<style scoped>\n",
       "    .dataframe tbody tr th:only-of-type {\n",
       "        vertical-align: middle;\n",
       "    }\n",
       "\n",
       "    .dataframe tbody tr th {\n",
       "        vertical-align: top;\n",
       "    }\n",
       "\n",
       "    .dataframe thead th {\n",
       "        text-align: right;\n",
       "    }\n",
       "</style>\n",
       "<table border=\"1\" class=\"dataframe\">\n",
       "  <thead>\n",
       "    <tr style=\"text-align: right;\">\n",
       "      <th></th>\n",
       "      <th>Teams</th>\n",
       "      <th>Matches</th>\n",
       "      <th>Points</th>\n",
       "      <th>Rating</th>\n",
       "    </tr>\n",
       "  </thead>\n",
       "  <tbody>\n",
       "    <tr>\n",
       "      <th>0</th>\n",
       "      <td>Australia</td>\n",
       "      <td>29</td>\n",
       "      <td>4,837</td>\n",
       "      <td>167</td>\n",
       "    </tr>\n",
       "    <tr>\n",
       "      <th>1</th>\n",
       "      <td>South Africa</td>\n",
       "      <td>29</td>\n",
       "      <td>3,551</td>\n",
       "      <td>122</td>\n",
       "    </tr>\n",
       "    <tr>\n",
       "      <th>2</th>\n",
       "      <td>England</td>\n",
       "      <td>30</td>\n",
       "      <td>3,531</td>\n",
       "      <td>118</td>\n",
       "    </tr>\n",
       "    <tr>\n",
       "      <th>3</th>\n",
       "      <td>India</td>\n",
       "      <td>29</td>\n",
       "      <td>2,889</td>\n",
       "      <td>100</td>\n",
       "    </tr>\n",
       "    <tr>\n",
       "      <th>4</th>\n",
       "      <td>New Zealand</td>\n",
       "      <td>31</td>\n",
       "      <td>3,019</td>\n",
       "      <td>97</td>\n",
       "    </tr>\n",
       "    <tr>\n",
       "      <th>5</th>\n",
       "      <td>West Indies</td>\n",
       "      <td>30</td>\n",
       "      <td>2,768</td>\n",
       "      <td>92</td>\n",
       "    </tr>\n",
       "    <tr>\n",
       "      <th>6</th>\n",
       "      <td>Bangladesh</td>\n",
       "      <td>12</td>\n",
       "      <td>930</td>\n",
       "      <td>78</td>\n",
       "    </tr>\n",
       "    <tr>\n",
       "      <th>7</th>\n",
       "      <td>Pakistan</td>\n",
       "      <td>28</td>\n",
       "      <td>1,882</td>\n",
       "      <td>67</td>\n",
       "    </tr>\n",
       "    <tr>\n",
       "      <th>8</th>\n",
       "      <td>Sri Lanka</td>\n",
       "      <td>6</td>\n",
       "      <td>249</td>\n",
       "      <td>42</td>\n",
       "    </tr>\n",
       "    <tr>\n",
       "      <th>9</th>\n",
       "      <td>Zimbabwe</td>\n",
       "      <td>8</td>\n",
       "      <td>0</td>\n",
       "      <td>0</td>\n",
       "    </tr>\n",
       "  </tbody>\n",
       "</table>\n",
       "</div>"
      ],
      "text/plain": [
       "          Teams Matches Points Rating\n",
       "0     Australia      29  4,837    167\n",
       "1  South Africa      29  3,551    122\n",
       "2       England      30  3,531    118\n",
       "3         India      29  2,889    100\n",
       "4   New Zealand      31  3,019     97\n",
       "5   West Indies      30  2,768     92\n",
       "6    Bangladesh      12    930     78\n",
       "7      Pakistan      28  1,882     67\n",
       "8     Sri Lanka       6    249     42\n",
       "9      Zimbabwe       8      0      0"
      ]
     },
     "execution_count": 17,
     "metadata": {},
     "output_type": "execute_result"
    }
   ],
   "source": [
    "import pandas as pd\n",
    "df = pd.DataFrame({'Teams':team,'Matches':matches_f,'Points':points_f,'Rating':rating})\n",
    "df"
   ]
  },
  {
   "cell_type": "code",
   "execution_count": null,
   "id": "0d7d9f3e",
   "metadata": {},
   "outputs": [],
   "source": []
  }
 ],
 "metadata": {
  "kernelspec": {
   "display_name": "Python 3 (ipykernel)",
   "language": "python",
   "name": "python3"
  },
  "language_info": {
   "codemirror_mode": {
    "name": "ipython",
    "version": 3
   },
   "file_extension": ".py",
   "mimetype": "text/x-python",
   "name": "python",
   "nbconvert_exporter": "python",
   "pygments_lexer": "ipython3",
   "version": "3.9.7"
  }
 },
 "nbformat": 4,
 "nbformat_minor": 5
}
